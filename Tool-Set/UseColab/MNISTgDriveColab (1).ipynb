{
  "nbformat": 4,
  "nbformat_minor": 0,
  "metadata": {
    "colab": {
      "provenance": []
    },
    "kernelspec": {
      "name": "python3",
      "display_name": "Python 3"
    },
    "language_info": {
      "name": "python"
    }
  },
  "cells": [
    {
      "cell_type": "markdown",
      "source": [
        "<div align=\"center\"> <h1> <span style=\"color:green\">  Deep Learning model to Monitor  </span>   <span style=\"color:red\">  Handwritten Numbers  </span>  </h1>  \n",
        "Jayakumar. S PhD, </br>\n",
        "www.jkuse.com\n",
        "</div>"
      ],
      "metadata": {
        "id": "RV_gRYKRBJHc"
      }
    },
    {
      "cell_type": "markdown",
      "source": [
        "It will prompt you to select a file. Click on “Choose Files” then select and upload the file. Wait for the file to be 100% uploaded. You should see the name of the file once Colab has uploaded it. \n",
        "Finally, type in the following code to import it into a dataframe (make sure the filename matches the name of the uploaded file).\n",
        "\n"
      ],
      "metadata": {
        "id": "gwF8kF7ELsH2"
      }
    },
    {
      "cell_type": "code",
      "source": [
        "import gzip\n",
        "import os\n",
        "import numpy as np\n",
        "\n",
        "from google.colab import drive\n",
        " \n",
        "MOUNTPOINT = \"/content/gdrive\"\n",
        "DATADIR = os.path.join(MOUNTPOINT, \"My Drive\")\n",
        "drive.mount(MOUNTPOINT)"
      ],
      "metadata": {
        "colab": {
          "base_uri": "https://localhost:8080/"
        },
        "id": "8phtneOjnw01",
        "outputId": "9a5a0791-3868-48b1-b6a7-7125e875c38d"
      },
      "execution_count": 2,
      "outputs": [
        {
          "output_type": "stream",
          "name": "stdout",
          "text": [
            "Mounted at /content/gdrive\n"
          ]
        }
      ]
    },
    {
      "cell_type": "markdown",
      "source": [
        "Then, Colab will request permission to access your Google Drive files, which you can do after selecting which Google account you want to give it access to. After giving it the required permissions, we can see our Google Drive mounted in the Files tab on the left-hand side."
      ],
      "metadata": {
        "id": "tx4UPswcoVy4"
      }
    },
    {
      "cell_type": "code",
      "source": [
        "...\n",
        "# writes directly to google drive\n",
        "with open(f\"{DATADIR}/jj.txt\", \"w\") as outfile:\n",
        "    outfile.write(\"Hello World!\")"
      ],
      "metadata": {
        "id": "T7X_PsbKnxVr"
      },
      "execution_count": 3,
      "outputs": []
    },
    {
      "cell_type": "markdown",
      "source": [
        "This code snippet writes Hello World! to a test.txt file in the top level of your Google Drive. Similarly, we can read from a file in our Google Drive as well by using:"
      ],
      "metadata": {
        "id": "l_FAqcMuo19x"
      }
    },
    {
      "cell_type": "code",
      "source": [],
      "metadata": {
        "id": "hKGJN1WLnxcB"
      },
      "execution_count": null,
      "outputs": []
    },
    {
      "cell_type": "code",
      "source": [
        "\n",
        "...\n",
        "with open(f\"{DATADIR}/jj.txt\", \"r\") as infile:\n",
        "    file_data = infile.read()\n",
        "    print(file_data)"
      ],
      "metadata": {
        "colab": {
          "base_uri": "https://localhost:8080/"
        },
        "id": "HMlPTjVgo8TN",
        "outputId": "42a9e476-1f58-4504-874b-64cd2a96c5be"
      },
      "execution_count": 4,
      "outputs": [
        {
          "output_type": "stream",
          "name": "stdout",
          "text": [
            "Hello World!\n"
          ]
        }
      ]
    },
    {
      "cell_type": "code",
      "source": [
        "fileLocation = \"/events/DLbook/DLtrain/DataSet/data/\"\n",
        "\n",
        "file1 = \"train-labels-idx1-ubyte.gz\"\n",
        "file2 = \"train-images-idx3-ubyte.gz\"\n",
        "file3 = \"t10k-labels-idx1-ubyte.gz\"\n",
        "file4 = \"t10k-images-idx3-ubyte.gz\""
      ],
      "metadata": {
        "id": "JbqlMYukxRr3"
      },
      "execution_count": 37,
      "outputs": []
    },
    {
      "cell_type": "code",
      "source": [
        "with gzip.open(f\"{DATADIR}{fileLocation}{file1}\", 'rb') as lbpath:\n",
        "    y_train = np.frombuffer(lbpath.read(), np.uint8, offset=8)\n",
        "\n",
        "\n",
        "with gzip.open(f\"{DATADIR}{fileLocation}{file2}\", 'rb') as imgpath:\n",
        "    x_train = np.frombuffer(\n",
        "    imgpath.read(), np.uint8, offset=16).reshape(len(y_train), 28, 28)\n",
        "    \n",
        "with gzip.open(f\"{DATADIR}{fileLocation}{file3}\", 'rb') as lbpath:\n",
        "    y_test = np.frombuffer(lbpath.read(), np.uint8, offset=8)\n",
        "    \n",
        "with gzip.open(f\"{DATADIR}{fileLocation}{file4}\", 'rb') as imgpath:\n",
        "    x_test = np.frombuffer(\n",
        "    imgpath.read(), np.uint8, offset=16).reshape(len(y_test), 28, 28)"
      ],
      "metadata": {
        "id": "GsO9kbB6paDw"
      },
      "execution_count": 38,
      "outputs": []
    },
    {
      "cell_type": "code",
      "source": [
        "train_images = x_train\n",
        "train_labels = y_train\n",
        "print(train_images.shape)\n",
        "print(train_labels.shape)\n",
        "trainX = x_train\n",
        "trainy = y_train"
      ],
      "metadata": {
        "colab": {
          "base_uri": "https://localhost:8080/"
        },
        "id": "yiKIgVfFqdLP",
        "outputId": "6ac3c26c-c9e5-4298-e00e-e05c354b6e20"
      },
      "execution_count": 39,
      "outputs": [
        {
          "output_type": "stream",
          "name": "stdout",
          "text": [
            "(60000, 28, 28)\n",
            "(60000,)\n"
          ]
        }
      ]
    },
    {
      "cell_type": "code",
      "source": [
        "from tensorflow.python.keras.utils.data_utils import get_file"
      ],
      "metadata": {
        "id": "1rIwHbkcHr8y"
      },
      "execution_count": 40,
      "outputs": []
    },
    {
      "cell_type": "code",
      "source": [
        "test_images = x_test \n",
        "test_labels = y_test\n",
        "print(test_images.shape)\n",
        "print(test_labels.shape)\n",
        "testX = x_test \n",
        "testy =  y_test"
      ],
      "metadata": {
        "colab": {
          "base_uri": "https://localhost:8080/"
        },
        "id": "drlGBDN5JL4r",
        "outputId": "c408ca59-b081-4abb-a004-fe8c064f1517"
      },
      "execution_count": 41,
      "outputs": [
        {
          "output_type": "stream",
          "name": "stdout",
          "text": [
            "(10000, 28, 28)\n",
            "(10000,)\n"
          ]
        }
      ]
    },
    {
      "cell_type": "code",
      "source": [
        "print('Train: X=%s, y=%s' % (trainX.shape, trainy.shape))\n",
        "print('Test: X=%s, y=%s' % (testX.shape, testy.shape))"
      ],
      "metadata": {
        "colab": {
          "base_uri": "https://localhost:8080/"
        },
        "id": "-70cAL8ZJQok",
        "outputId": "577776c3-f6d1-4650-9716-a58c266be090"
      },
      "execution_count": 42,
      "outputs": [
        {
          "output_type": "stream",
          "name": "stdout",
          "text": [
            "Train: X=(60000, 28, 28), y=(60000,)\n",
            "Test: X=(10000, 28, 28), y=(10000,)\n"
          ]
        }
      ]
    },
    {
      "cell_type": "code",
      "source": [
        "print(trainX.shape[0])\n",
        "print(testX.shape[0])\n",
        "trainX1 = trainX.reshape((trainX.shape[0], 28, 28, 1))\n",
        "testX1 = testX.reshape((testX.shape[0], 28, 28, 1)) \n",
        "print('Afer Reshape input array image in to tensor')\n",
        "print('Train: X=%s, y=%s' % (trainX.shape, trainy.shape))\n",
        "print('Test: X=%s, y=%s' % (testX.shape, testy.shape))"
      ],
      "metadata": {
        "colab": {
          "base_uri": "https://localhost:8080/"
        },
        "id": "IGpA2SUcJVyR",
        "outputId": "02b0468f-c5a7-4b33-d441-7a053814d0e5"
      },
      "execution_count": 43,
      "outputs": [
        {
          "output_type": "stream",
          "name": "stdout",
          "text": [
            "60000\n",
            "10000\n",
            "Afer Reshape input array image in to tensor\n",
            "Train: X=(60000, 28, 28), y=(60000,)\n",
            "Test: X=(10000, 28, 28), y=(10000,)\n"
          ]
        }
      ]
    },
    {
      "cell_type": "code",
      "source": [
        "from matplotlib import pyplot"
      ],
      "metadata": {
        "id": "d6BOrNLFJirK"
      },
      "execution_count": 44,
      "outputs": []
    },
    {
      "cell_type": "code",
      "source": [
        "for i in range(2):\n",
        "    pyplot.subplot(330 + 1 + i)\n",
        "    pyplot.imshow(trainX[i], cmap=pyplot.get_cmap('gray'))\n",
        "    pyplot.show()"
      ],
      "metadata": {
        "colab": {
          "base_uri": "https://localhost:8080/",
          "height": 327
        },
        "id": "MYPjGghDJaId",
        "outputId": "364f9ddb-17c5-4649-9c91-7feea947d16d"
      },
      "execution_count": 45,
      "outputs": [
        {
          "output_type": "display_data",
          "data": {
            "text/plain": [
              "<Figure size 640x480 with 1 Axes>"
            ],
            "image/png": "[encoded data removed]"
          },
          "metadata": {}
        },
        {
          "output_type": "display_data",
          "data": {
            "text/plain": [
              "<Figure size 640x480 with 1 Axes>"
            ],
            "image/png": "[encoded data removed]"
          },
          "metadata": {}
        }
      ]
    },
    {
      "cell_type": "code",
      "source": [
        "train_norm = trainX1.astype('float32')\n",
        "test_norm = testX1.astype('float32')\n",
        "# normalize to range 0-1\n",
        "train_norm = train_norm / 255.0\n",
        "test_norm = test_norm / 255.0\n",
        "# return normalized images"
      ],
      "metadata": {
        "id": "QMT45sZ7JqU1"
      },
      "execution_count": 46,
      "outputs": []
    },
    {
      "cell_type": "code",
      "source": [
        "trainX1a = trainX.reshape((train_norm.shape[0], 28, 28))\n",
        "for i in range(9):\n",
        "    pyplot.subplot(330 + 1 + i)\n",
        "    pyplot.imshow(trainX1a[i], cmap=pyplot.get_cmap('gray'))\n",
        "    pyplot.show()"
      ],
      "metadata": {
        "colab": {
          "base_uri": "https://localhost:8080/",
          "height": 1000
        },
        "id": "wLnsuXbBJvrg",
        "outputId": "6b1abc9e-a63c-4e14-b31b-b626368cb877"
      },
      "execution_count": 47,
      "outputs": [
        {
          "output_type": "display_data",
          "data": {
            "text/plain": [
              "<Figure size 640x480 with 1 Axes>"
            ],
            "image/png": "[encoded data removed]"
          },
          "metadata": {}
        },
        {
          "output_type": "display_data",
          "data": {
            "text/plain": [
              "<Figure size 640x480 with 1 Axes>"
            ],
            "image/png": "[encoded data removed]"
          },
          "metadata": {}
        },
        {
          "output_type": "display_data",
          "data": {
            "text/plain": [
              "<Figure size 640x480 with 1 Axes>"
            ],
            "image/png": "[encoded data removed]"
          },
          "metadata": {}
        },
        {
          "output_type": "display_data",
          "data": {
            "text/plain": [
              "<Figure size 640x480 with 1 Axes>"
            ],
            "image/png": "[encoded data removed]"
          },
          "metadata": {}
        },
        {
          "output_type": "display_data",
          "data": {
            "text/plain": [
              "<Figure size 640x480 with 1 Axes>"
            ],
            "image/png": "[encoded data removed]"
          },
          "metadata": {}
        },
        {
          "output_type": "display_data",
          "data": {
            "text/plain": [
              "<Figure size 640x480 with 1 Axes>"
            ],
            "image/png": "[encoded data removed]"
          },
          "metadata": {}
        },
        {
          "output_type": "display_data",
          "data": {
            "text/plain": [
              "<Figure size 640x480 with 1 Axes>"
            ],
            "image/png": "[encoded data removed]"
          },
          "metadata": {}
        },
        {
          "output_type": "display_data",
          "data": {
            "text/plain": [
              "<Figure size 640x480 with 1 Axes>"
            ],
            "image/png": "[encoded data removed]"
          },
          "metadata": {}
        },
        {
          "output_type": "display_data",
          "data": {
            "text/plain": [
              "<Figure size 640x480 with 1 Axes>"
            ],
            "image/png": "[encoded data removed]"
          },
          "metadata": {}
        }
      ]
    },
    {
      "cell_type": "code",
      "source": [
        "from tensorflow.python.util.tf_export import tf_export\n",
        "from tensorflow.keras.utils import to_categorical\n",
        "from tensorflow.keras.models import Sequential\n",
        "from tensorflow.keras.layers import Conv2D\n",
        "from tensorflow.keras.layers import MaxPooling2D\n",
        "from tensorflow.keras.layers import Dense\n",
        "from tensorflow.keras.layers import Flatten\n",
        "from tensorflow.keras.optimizers import SGD\n",
        "from numpy import mean"
      ],
      "metadata": {
        "id": "8JixrvHRKBO3"
      },
      "execution_count": 48,
      "outputs": []
    },
    {
      "cell_type": "code",
      "source": [
        "print(trainy.shape)\n",
        "trainY = to_categorical(trainy)\n",
        "testY = to_categorical(testy)\n",
        "\n"
      ],
      "metadata": {
        "colab": {
          "base_uri": "https://localhost:8080/"
        },
        "id": "7AOM_NZS_vn3",
        "outputId": "6e10c7be-e99f-4792-f314-e3fb5c3260c4"
      },
      "execution_count": 49,
      "outputs": [
        {
          "output_type": "stream",
          "name": "stdout",
          "text": [
            "(60000,)\n"
          ]
        }
      ]
    },
    {
      "cell_type": "code",
      "source": [
        "print(trainY.shape)\n",
        "print(testY.shape)"
      ],
      "metadata": {
        "colab": {
          "base_uri": "https://localhost:8080/"
        },
        "id": "rTvx0CMGKGFe",
        "outputId": "178a0d6e-82fc-401b-b8a6-bcb8e7b72aba"
      },
      "execution_count": 50,
      "outputs": [
        {
          "output_type": "stream",
          "name": "stdout",
          "text": [
            "(60000, 10)\n",
            "(10000, 10)\n"
          ]
        }
      ]
    },
    {
      "cell_type": "code",
      "source": [
        "for i in range(10):\n",
        "    print(trainY[58888][i])"
      ],
      "metadata": {
        "colab": {
          "base_uri": "https://localhost:8080/"
        },
        "id": "nmQScyuQKGKa",
        "outputId": "a35d65ba-5f70-4621-a9c3-1b2b48490e6f"
      },
      "execution_count": 51,
      "outputs": [
        {
          "output_type": "stream",
          "name": "stdout",
          "text": [
            "0.0\n",
            "0.0\n",
            "0.0\n",
            "0.0\n",
            "0.0\n",
            "0.0\n",
            "0.0\n",
            "0.0\n",
            "1.0\n",
            "0.0\n"
          ]
        }
      ]
    },
    {
      "cell_type": "code",
      "source": [
        "model = Sequential()\n",
        "model.add(Conv2D(32, (3, 3), activation='relu', kernel_initializer='he_uniform', input_shape=(28, 28, 1)))\n",
        "model.add(MaxPooling2D((2, 2)))\n",
        "model.add(Flatten())\n",
        "model.add(Dense(100, activation='relu', kernel_initializer='he_uniform'))\n",
        "model.add(Dense(10, activation='softmax'))"
      ],
      "metadata": {
        "id": "_h3_33hXKSv_"
      },
      "execution_count": 52,
      "outputs": []
    },
    {
      "cell_type": "code",
      "source": [
        "opt = SGD(lr=0.01, momentum=0.9)\n",
        "model.compile(optimizer=opt, loss='categorical_crossentropy', metrics=['accuracy'])\n",
        "print(model.summary())"
      ],
      "metadata": {
        "colab": {
          "base_uri": "https://localhost:8080/"
        },
        "id": "s4cfjI4HKS4R",
        "outputId": "4f51cb9f-7908-4bb8-832a-549b26641aaf"
      },
      "execution_count": 53,
      "outputs": [
        {
          "output_type": "stream",
          "name": "stderr",
          "text": [
            "WARNING:absl:`lr` is deprecated in Keras optimizer, please use `learning_rate` or use the legacy optimizer, e.g.,tf.keras.optimizers.legacy.SGD.\n"
          ]
        },
        {
          "output_type": "stream",
          "name": "stdout",
          "text": [
            "Model: \"sequential_1\"\n",
            "_________________________________________________________________\n",
            " Layer (type)                Output Shape              Param #   \n",
            "=================================================================\n",
            " conv2d_1 (Conv2D)           (None, 26, 26, 32)        320       \n",
            "                                                                 \n",
            " max_pooling2d_1 (MaxPooling  (None, 13, 13, 32)       0         \n",
            " 2D)                                                             \n",
            "                                                                 \n",
            " flatten_1 (Flatten)         (None, 5408)              0         \n",
            "                                                                 \n",
            " dense_2 (Dense)             (None, 100)               540900    \n",
            "                                                                 \n",
            " dense_3 (Dense)             (None, 10)                1010      \n",
            "                                                                 \n",
            "=================================================================\n",
            "Total params: 542,230\n",
            "Trainable params: 542,230\n",
            "Non-trainable params: 0\n",
            "_________________________________________________________________\n",
            "None\n"
          ]
        }
      ]
    },
    {
      "cell_type": "code",
      "source": [
        "scores, histories = list(), list()\n",
        "history = model.fit(train_norm, trainY, epochs=5, batch_size=32, validation_data=(test_norm, testY), verbose=1)"
      ],
      "metadata": {
        "colab": {
          "base_uri": "https://localhost:8080/"
        },
        "id": "dswOa-OhKb9i",
        "outputId": "1553cd98-5f06-4335-dd67-1a3771a044ee"
      },
      "execution_count": 54,
      "outputs": [
        {
          "output_type": "stream",
          "name": "stdout",
          "text": [
            "Epoch 1/5\n",
            "1875/1875 [==============================] - 43s 23ms/step - loss: 0.1660 - accuracy: 0.9496 - val_loss: 0.0664 - val_accuracy: 0.9806\n",
            "Epoch 2/5\n",
            "1875/1875 [==============================] - 42s 22ms/step - loss: 0.0562 - accuracy: 0.9834 - val_loss: 0.0449 - val_accuracy: 0.9848\n",
            "Epoch 3/5\n",
            "1875/1875 [==============================] - 43s 23ms/step - loss: 0.0365 - accuracy: 0.9887 - val_loss: 0.0475 - val_accuracy: 0.9841\n",
            "Epoch 4/5\n",
            "1875/1875 [==============================] - 40s 22ms/step - loss: 0.0243 - accuracy: 0.9926 - val_loss: 0.0413 - val_accuracy: 0.9861\n",
            "Epoch 5/5\n",
            "1875/1875 [==============================] - 40s 22ms/step - loss: 0.0178 - accuracy: 0.9951 - val_loss: 0.0364 - val_accuracy: 0.9882\n"
          ]
        }
      ]
    },
    {
      "cell_type": "code",
      "source": [
        "_, acc = model.evaluate(test_norm, testY, verbose=1)\n",
        "print('> %.3f' % (acc * 100.0))\n",
        "# stores scores\n",
        "scores.append(acc)\n",
        "histories.append(history)\n",
        "print(history)"
      ],
      "metadata": {
        "colab": {
          "base_uri": "https://localhost:8080/"
        },
        "id": "s3JjljUALSsz",
        "outputId": "23a91a4e-91c6-4b49-906c-56f38602116e"
      },
      "execution_count": 55,
      "outputs": [
        {
          "output_type": "stream",
          "name": "stdout",
          "text": [
            "313/313 [==============================] - 4s 12ms/step - loss: 0.0364 - accuracy: 0.9882\n",
            "> 98.820\n",
            "<keras.callbacks.History object at 0x7f5d9c76d430>\n"
          ]
        }
      ]
    },
    {
      "cell_type": "code",
      "source": [
        "print(histories[0].history)\n",
        "print(histories[0].history)"
      ],
      "metadata": {
        "colab": {
          "base_uri": "https://localhost:8080/"
        },
        "id": "TXsB7WorLXOo",
        "outputId": "d7b8c092-29c8-492b-f4dd-e733268a02c4"
      },
      "execution_count": 56,
      "outputs": [
        {
          "output_type": "stream",
          "name": "stdout",
          "text": [
            "{'loss': [0.16599680483341217, 0.05618448927998543, 0.03647845983505249, 0.024251552298665047, 0.01782836578786373], 'accuracy': [0.9495833516120911, 0.9834166765213013, 0.9886666536331177, 0.9926499724388123, 0.9950500130653381], 'val_loss': [0.06639056652784348, 0.04489178955554962, 0.047489065676927567, 0.04130338132381439, 0.036355167627334595], 'val_accuracy': [0.9805999994277954, 0.9847999811172485, 0.9840999841690063, 0.9861000180244446, 0.9882000088691711]}\n",
            "{'loss': [0.16599680483341217, 0.05618448927998543, 0.03647845983505249, 0.024251552298665047, 0.01782836578786373], 'accuracy': [0.9495833516120911, 0.9834166765213013, 0.9886666536331177, 0.9926499724388123, 0.9950500130653381], 'val_loss': [0.06639056652784348, 0.04489178955554962, 0.047489065676927567, 0.04130338132381439, 0.036355167627334595], 'val_accuracy': [0.9805999994277954, 0.9847999811172485, 0.9840999841690063, 0.9861000180244446, 0.9882000088691711]}\n"
          ]
        }
      ]
    },
    {
      "cell_type": "code",
      "source": [
        "for i in range(len(histories)):\n",
        "    # plot loss\n",
        "    pyplot.subplot(211)\n",
        "    pyplot.title('Cross Entropy Loss')\n",
        "    pyplot.plot(histories[i].history['loss'], color='blue', label='train')\n",
        "    pyplot.plot(histories[i].history['val_loss'], color='orange', label='test')\n",
        "    # plot accuracy\n",
        "    pyplot.subplot(212)\n",
        "    pyplot.title('Classification Accuracy')\n",
        "    pyplot.plot(histories[i].history['accuracy'], color='blue', label='train')\n",
        "    pyplot.plot(histories[i].history['val_accuracy'], color='orange', label='test')\n",
        "    #pyplot.plot(histories[i].history['acc'], color='blue', label='train')\n",
        "    #pyplot.plot(histories[i].history['val_acc'], color='orange', label='test')\n",
        "    pyplot.show()"
      ],
      "metadata": {
        "colab": {
          "base_uri": "https://localhost:8080/",
          "height": 452
        },
        "id": "fYnKrv9dLcaU",
        "outputId": "fa97674e-1b8c-4a8f-e61f-79e1eba5fd67"
      },
      "execution_count": 57,
      "outputs": [
        {
          "output_type": "display_data",
          "data": {
            "text/plain": [
              "<Figure size 640x480 with 2 Axes>"
            ],
            "image/png": "[encoded data removed]"
          },
          "metadata": {}
        }
      ]
    },
    {
      "cell_type": "code",
      "source": [
        "print('Accuracy: mean=%.3f std=%.3f, n=%d' % (np.mean(scores)*100, np.std(scores)*100, len(scores)))\n",
        "# box and whisker plots of results\n",
        "pyplot.boxplot(scores)\n",
        "pyplot.show()"
      ],
      "metadata": {
        "colab": {
          "base_uri": "https://localhost:8080/",
          "height": 447
        },
        "id": "uQd26hstLg0R",
        "outputId": "632da946-7886-46f9-ac5e-47ecc6720de2"
      },
      "execution_count": 58,
      "outputs": [
        {
          "output_type": "stream",
          "name": "stdout",
          "text": [
            "Accuracy: mean=98.820 std=0.000, n=1\n"
          ]
        },
        {
          "output_type": "display_data",
          "data": {
            "text/plain": [
              "<Figure size 640x480 with 1 Axes>"
            ],
            "image/png": "[encoded data removed]"
          },
          "metadata": {}
        }
      ]
    }
  ]
}