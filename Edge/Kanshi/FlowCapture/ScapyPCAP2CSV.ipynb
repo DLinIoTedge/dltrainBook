{
 "cells": [
  {
   "cell_type": "markdown",
   "metadata": {},
   "source": [
    "#  PCAP to CSV\n",
    "\n",
    "    scapy is used to convert PCAP file to  CSV file\n",
    "    \n",
    "     //jk\n",
    "     //Banaglore\n",
    "     // 24/01/22"
   ]
  },
  {
   "cell_type": "code",
   "execution_count": 6,
   "metadata": {},
   "outputs": [],
   "source": [
    "from scapy.all import *\n",
    "import sys\n",
    "import csv\n"
   ]
  },
  {
   "cell_type": "code",
   "execution_count": 7,
   "metadata": {},
   "outputs": [],
   "source": [
    "# v1= \"cyber_lab.pcap\"  \n",
    "v1= \"jk1.pcap\"  \n",
    "pcap= rdpcap(v1) "
   ]
  },
  {
   "cell_type": "code",
   "execution_count": 8,
   "metadata": {},
   "outputs": [],
   "source": [
    "headers1=['dst','src','type','version','tc','f1','plen','nh','hlim','IPsrc','IPdst','sport','dport','seq','ack',\n",
    "         'dataofs','reserved','flags','window','chksum','urgptr','optionsmss','optionsNOP0','optionsWScale',\n",
    "         'optionsNOP1','optionsNOP2','optionsSAckOK']\n",
    "\n",
    "headers=['dst','src','type','IPdst','sport','dport','seq','ack', 'dataofs','reserved','flags','window','chksum','urgptr']"
   ]
  },
  {
   "cell_type": "code",
   "execution_count": 9,
   "metadata": {},
   "outputs": [
    {
     "name": "stdout",
     "output_type": "stream",
     "text": [
      "1\n",
      "f8:da:0c:48:b9:d1 443\n",
      "2\n",
      "78:32:1b:41:df:fb 55694\n",
      "3\n",
      "78:32:1b:41:df:fb 55694\n",
      "4\n",
      "f8:da:0c:48:b9:d1 443\n",
      "5\n",
      "f8:da:0c:48:b9:d1 443\n"
     ]
    }
   ],
   "source": [
    "f = open('test3.csv','w',newline ='')  # open the file in the write mode\n",
    "fcsv= csv.writer(f) #  create the csv writer\n",
    "fcsv.writerow(headers) # write a row  ( header ) (to the csv file\n",
    "\n",
    "\n",
    "i=1\n",
    "for pkt in pcap :\n",
    "    print(i)\n",
    "    i=i+1\n",
    "    # print(pkt)\n",
    "    dst=pkt['Ethernet'].dst\n",
    "    # version = pkt0['IPv6'].version\n",
    "    sport =pkt['TCP'].sport\n",
    "    print(dst,sport)\n",
    "    pkt0 = pkt\n",
    "    a1=pkt0['Ethernet'].dst\n",
    "    a2=pkt0['Ethernet'].src\n",
    "    a3=pkt0['Ethernet'].type\n",
    "    # b1=pkt0['IPv6'].version\n",
    "    # b2=pkt0['IPv6'].tc\n",
    "    # b3=pkt0['IPv6'].fl\n",
    "    # b4=pkt0['IPv6'].plen\n",
    "    # b5=pkt0['IPv6'].nh\n",
    "    # b6=pkt0['IPv6'].hlim\n",
    "    # b7=pkt0['IPv6'].src\n",
    "    # b8=pkt0['IPv6'].dst\n",
    "    c1=pkt0['TCP'].sport\n",
    "    c2=pkt0['TCP'].dport\n",
    "    c3=pkt0['TCP'].seq\n",
    "    c4=pkt0['TCP'].ack\n",
    "    c5=pkt0['TCP'].dataofs\n",
    "    c6=pkt0['TCP'].reserved\n",
    "    c7=pkt0['TCP'].flags\n",
    "    c8=pkt0['TCP'].window\n",
    "    c9=pkt0['TCP'].chksum\n",
    "    c10=pkt0['TCP'].urgptr\n",
    "    #c11=pkt0['TCP'].options[0][1]\n",
    "    #c12=pkt0['TCP'].options[1][1]\n",
    "    #c13=pkt0['TCP'].options[2][1]\n",
    "    #c14=pkt0['TCP'].options[3][1]\n",
    "    #c15=pkt0['TCP'].options[4][1]\n",
    "    #c16=pkt0['TCP'].options[5][1]\n",
    "    rows=[a1,a2,a3,c1,c2,c3,c4,c5,c6,c7,c8,c9,c10]\n",
    "    fcsv.writerow(rows) # write a row\n",
    "\n",
    " "
   ]
  },
  {
   "cell_type": "code",
   "execution_count": 10,
   "metadata": {},
   "outputs": [],
   "source": [
    "f.close() # close the file"
   ]
  },
  {
   "cell_type": "code",
   "execution_count": null,
   "metadata": {},
   "outputs": [],
   "source": []
  }
 ],
 "metadata": {
  "kernelspec": {
   "display_name": "Python 3",
   "language": "python",
   "name": "python3"
  },
  "language_info": {
   "codemirror_mode": {
    "name": "ipython",
    "version": 3
   },
   "file_extension": ".py",
   "mimetype": "text/x-python",
   "name": "python",
   "nbconvert_exporter": "python",
   "pygments_lexer": "ipython3",
   "version": "3.6.9"
  }
 },
 "nbformat": 4,
 "nbformat_minor": 4
}
